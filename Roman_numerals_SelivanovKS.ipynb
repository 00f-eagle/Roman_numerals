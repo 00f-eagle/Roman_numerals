{
 "cells": [
  {
   "cell_type": "code",
   "execution_count": 1,
   "metadata": {},
   "outputs": [],
   "source": [
    "mapping = {\"I\" : 1, \n",
    "           \"V\" : 5,\n",
    "           \"X\" : 10,\n",
    "           \"L\" : 50,\n",
    "           \"C\" : 100,\n",
    "           \"D\" : 500,\n",
    "           \"M\" : 1000}"
   ]
  },
  {
   "cell_type": "code",
   "execution_count": 2,
   "metadata": {},
   "outputs": [],
   "source": [
    "def roman_to_decimal(rom):\n",
    "    dec = 0\n",
    "    if len(rom) == 0:\n",
    "        return dec\n",
    "    elif len(rom) == 1:\n",
    "        dec += mapping[rom[0]]\n",
    "        return dec\n",
    "    elif mapping[rom[0]] >= mapping[rom[1]]:\n",
    "        return dec + mapping[rom[0]] + roman_to_decimal(rom[1:])\n",
    "    elif mapping[rom[0]] < mapping[rom[1]]:\n",
    "        return dec + mapping[rom[1]] - mapping[rom[0]] + roman_to_decimal(rom[2:])\n",
    "    return dec"
   ]
  },
  {
   "cell_type": "code",
   "execution_count": 3,
   "metadata": {},
   "outputs": [
    {
     "name": "stdout",
     "output_type": "stream",
     "text": [
      "True\n",
      "True\n",
      "True\n",
      "True\n",
      "True\n"
     ]
    }
   ],
   "source": [
    "test_pairs = [(\"IX\", 9), (\"XI\", 11), (\"MCCII\", 1202), (\"MMXVIII\", 2018), (\"XLIX\", 49)]\n",
    "\n",
    "for rom, dec in test_pairs:\n",
    "    converted = roman_to_decimal(rom)\n",
    "    print(converted == dec)"
   ]
  },
  {
   "cell_type": "code",
   "execution_count": 4,
   "metadata": {},
   "outputs": [
    {
     "name": "stdout",
     "output_type": "stream",
     "text": [
      "True\n",
      "True\n",
      "True\n",
      "True\n",
      "True\n"
     ]
    }
   ],
   "source": [
    "test_pairs = [(\"MCDII\", 1402), (\"DVCI\", 596), (\"III\", 3), (\"LDIV\", 454), (\"MDCLXVI\", 1666)]\n",
    "\n",
    "for rom, dec in test_pairs:\n",
    "    converted = roman_to_decimal(rom)\n",
    "    print(converted == dec)"
   ]
  },
  {
   "cell_type": "code",
   "execution_count": 5,
   "metadata": {},
   "outputs": [
    {
     "name": "stdout",
     "output_type": "stream",
     "text": [
      "False = 23 = MCCXLVIII = 1246\n",
      "False = 93 = MCCLXX = 1273\n",
      "False = 94 = MDCCX = 1708\n",
      "False = 136 = LXXXIV = 81\n",
      "False = 174 = DCCXCVII = 799\n",
      "False = 265 = CDXXIX = 430\n",
      "False = 295 = MDCCXCI = 1790\n"
     ]
    }
   ],
   "source": [
    "p_roman = \"tests_roman_to_decimal.txt\"\n",
    "with open(p_roman, \"rb\") as fp_roman:\n",
    "    lines_roman=fp_roman.readlines()\n",
    "\n",
    "test_data_roman = [line.strip().decode(\"ascii\").split(',') for line in lines_roman]\n",
    "test_data_roman = [(line[0], int(line[1])) for line in test_data_roman]\n",
    "\n",
    "count = 0\n",
    "for rom, dec in test_data_roman:\n",
    "    count += 1\n",
    "    converted = roman_to_decimal(rom)\n",
    "    if converted != dec:\n",
    "        print('False', count, rom, dec, sep=' = ')"
   ]
  },
  {
   "cell_type": "code",
   "execution_count": 6,
   "metadata": {},
   "outputs": [],
   "source": [
    "mapping_2 = {1: 'I',\n",
    "           5: 'V',\n",
    "           10: 'X',\n",
    "           50: 'L',\n",
    "           100: 'C',\n",
    "           500: 'D',\n",
    "           1000: 'M'}"
   ]
  },
  {
   "cell_type": "code",
   "execution_count": 7,
   "metadata": {},
   "outputs": [],
   "source": [
    "def decimal_to_roman(dec):\n",
    "    rom = ''\n",
    "    x1 = dec // 1000\n",
    "    x2 = dec % 1000 // 100\n",
    "    x3 = dec % 100 // 10\n",
    "    x4 = dec % 10\n",
    "    rom += 'M' * x1\n",
    "    rom += decimal_ro_roman_2(x2, 100)\n",
    "    rom += decimal_ro_roman_2(x3, 10)\n",
    "    rom += decimal_ro_roman_2(x4, 1)\n",
    "    return rom"
   ]
  },
  {
   "cell_type": "code",
   "execution_count": 8,
   "metadata": {},
   "outputs": [],
   "source": [
    "def decimal_ro_roman_2(x, digit):\n",
    "    rom = ''\n",
    "    if x == 9:\n",
    "        rom += mapping_2[digit] + mapping_2[10*digit]\n",
    "    elif x == 5:\n",
    "        rom += mapping_2[5*digit]\n",
    "    elif x == 4:\n",
    "        rom += mapping_2[digit] + mapping_2[5*digit]\n",
    "    elif x < 4:\n",
    "        for i in range(x):\n",
    "            rom += mapping_2[digit]\n",
    "    elif x > 5:\n",
    "        rom = mapping_2[5*digit]\n",
    "        for i in range(5, x):\n",
    "            rom += mapping_2[digit]\n",
    "    return rom"
   ]
  },
  {
   "cell_type": "code",
   "execution_count": 9,
   "metadata": {},
   "outputs": [
    {
     "name": "stdout",
     "output_type": "stream",
     "text": [
      "True\n",
      "True\n",
      "True\n",
      "True\n",
      "True\n"
     ]
    }
   ],
   "source": [
    "test_pairs = [(\"MMCDLXVII\", 2467), (\"MDCLXVI\", 1666), (\"CMXCIX\", 999), (\"IX\", 9), (\"DIV\", 504)]\n",
    "\n",
    "for rom, dec in test_pairs:\n",
    "    converted = decimal_to_roman(dec)\n",
    "    print(converted == rom)"
   ]
  },
  {
   "cell_type": "code",
   "execution_count": 10,
   "metadata": {},
   "outputs": [
    {
     "name": "stdout",
     "output_type": "stream",
     "text": [
      "False = 14 = MDCCCLXXXVIII = 1886\n",
      "False = 47 = CMLXXV = 978\n",
      "False = 54 = MDCCCXLIV = 1841\n",
      "False = 112 = MDCCCIII = 1804\n",
      "False = 184 = MDCCCVIII = 1807\n",
      "False = 286 = MCMLXXVI = 1975\n"
     ]
    }
   ],
   "source": [
    "p_decimal = \"tests_decimal_to_roman.txt\"\n",
    "with open(p_decimal, \"rb\") as fp_decimal:\n",
    "    lines_decimal=fp_decimal.readlines()\n",
    "\n",
    "test_data_decimal = [line.strip().decode(\"ascii\").split(',') for line in lines_decimal]\n",
    "test_data_decimal = [(line[0], int(line[1])) for line in test_data_decimal]\n",
    "\n",
    "count = 0\n",
    "for rom, dec in test_data_decimal:\n",
    "    count += 1\n",
    "    converted = decimal_to_roman(dec)\n",
    "    if converted != rom:\n",
    "        print('False', count, rom, dec, sep=' = ')"
   ]
  },
  {
   "cell_type": "code",
   "execution_count": null,
   "metadata": {},
   "outputs": [],
   "source": []
  }
 ],
 "metadata": {
  "kernelspec": {
   "display_name": "Python 3",
   "language": "python",
   "name": "python3"
  },
  "language_info": {
   "codemirror_mode": {
    "name": "ipython",
    "version": 3
   },
   "file_extension": ".py",
   "mimetype": "text/x-python",
   "name": "python",
   "nbconvert_exporter": "python",
   "pygments_lexer": "ipython3",
   "version": "3.7.3"
  }
 },
 "nbformat": 4,
 "nbformat_minor": 2
}
